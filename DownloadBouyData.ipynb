{
 "cells": [
  {
   "cell_type": "markdown",
   "metadata": {},
   "source": [
    "# Downloading NOAA Bouy Data"
   ]
  },
  {
   "cell_type": "code",
   "execution_count": 1,
   "metadata": {
    "collapsed": false
   },
   "outputs": [],
   "source": [
    "from ipywidgets import interact, interact_manual"
   ]
  },
  {
   "cell_type": "markdown",
   "metadata": {},
   "source": [
    "## Download Data"
   ]
  },
  {
   "cell_type": "code",
   "execution_count": 2,
   "metadata": {
    "collapsed": false
   },
   "outputs": [],
   "source": [
    "def DownloadBouyData(station, syear, smonth, sday, eyear, emonth, eday, product, datum, units, time_zone, dformat):\n",
    "    # -*- coding: utf-8 -*-\n",
    "    \"\"\"\n",
    "    Purpose: Download Time Series data from NOAA API\n",
    "    Created on Tue Apr  5 23:21:12 2016\n",
    "    @author: slawler@dewberry.com\n",
    "    \"\"\"\n",
    "    #---------------LOAD PYTHON MODULES-----------------------#\n",
    "    from pandas import date_range, DateOffset\n",
    "    from datetime import datetime\n",
    "    import os, requests\n",
    "    from time import sleep\n",
    "    #---------------ENTER VARIABLES---------------------------#\n",
    "    station   = str(station)               #Station ID\n",
    "    start     = datetime(int(syear), int(smonth), int(sday),0)    #Start Date\n",
    "    stop      = datetime(int(eyear), int(emonth), int(eday),0)    #End Date\n",
    "    interval  = DateOffset(days = 1)       #ChunkSize\n",
    "    PATH      = \"/home/rannikko/git/Dewberry-RSG/AWRA_Presentation_2017/data\"  #Download Directory\n",
    "    product = product                      #Scalar of Interest\n",
    "    datum = datum                          #Datum\n",
    "    units = units                          #Units\n",
    "    time_zone = time_zone                  #Time Zone\n",
    "    dformat = dformat                      #Format\n",
    "    url = 'http://tidesandcurrents.noaa.gov/api/datagetter'\n",
    "\n",
    "    #----------------------------------------------------------#\n",
    "    #-----------------------RUN SCRIPT-------------------------#\n",
    "    #----------------------------------------------------------#\n",
    "\n",
    "    #---Create Time Series (DatetimeIndex)\n",
    "    daterange = date_range(start,stop - interval ,freq = interval)\n",
    "    download_start = datetime.now() #Get Program Start Time\n",
    "\n",
    "    #---Initialize Error Log in Download Directory\n",
    "    with open(os.path.join(PATH, 'ErrorLog.txt'), 'w') as f:\n",
    "        f.write('Download Began    : {}\\n'.format(str(download_start)))\n",
    "\n",
    "    print(\"\\n=====BEGIN PROCESS: {}=====\".format(str(download_start)))\n",
    "\n",
    "    #---Loop Through Date Range, Ping URL for data, write data to file\n",
    "    for i, d in enumerate(daterange):\n",
    "        print(\"Grabbing NOAA Station Data beginning: {}\".format(d))\n",
    "        try:\n",
    "            first    = datetime.date(d).strftime('%Y%m%d')\n",
    "            last     =  datetime.date(d + interval).strftime('%Y%m%d')\n",
    "\n",
    "            params   = {'begin_date': first+\" 00:00\", 'end_date': last+\" 00:00\",\n",
    "                        'station': station,'product':product,'datum':datum,\n",
    "                         'units':units,'time_zone':time_zone,'format':dformat,\n",
    "                         'application':'web_services' }\n",
    "\n",
    "            r = requests.get(url, params = params)\n",
    "            data = r.content.decode()\n",
    "            newfile = os.path.join(PATH,'{0}_{1}_{2}.txt'.format(station, product, str(i)))\n",
    "\n",
    "            with open(newfile,'w') as f: f.write(data)\n",
    "\n",
    "        except:\n",
    "            with open(os.path.join(PATH, 'ErrorLog.txt'), 'a') as f:\n",
    "                f.write(\"ERROR for date beginning: %s\" %(first)  + '\\n')\n",
    "            print('Check Error Log')\n",
    "\n",
    "        sleep(5)\n",
    "\n",
    "    #---Write End time in Error Log\n",
    "    download_stop = download_start = datetime.now()\n",
    "\n",
    "    with open(os.path.join(PATH, 'ErrorLog.txt'), 'a') as f:\n",
    "        f.write('Download Completed: ' + str(download_stop)+'\\n')\n",
    "\n",
    "    print(\"=====END PROCESS: {}=====\".format(str(download_stop)))"
   ]
  },
  {
   "cell_type": "code",
   "execution_count": 3,
   "metadata": {
    "collapsed": true
   },
   "outputs": [],
   "source": [
    "slist = [str(8594900), str(8638610)]\n",
    "years = [str(x) for x in np.arange(1990, 2018)]\n",
    "months = [str(x) for x in np.arange(1, 13)]\n",
    "days = [str(x) for x in np.arange(1, 32)]\n",
    "plist = [\"water_level\", \"hourly_height\", \"high_low\", \"daily_mean\", \"monthly_mean\", \"one_minute_water_level\", \"predictions\"]  \n",
    "dlist = [\"mhhw\", \"mhw\", \"mtl\", \"msl\", \"mlw\", \"mllw\", \"navd\", \"stnd\"] \n",
    "ulist = [\"english\", \"metric\"] \n",
    "tlist = [\"gmt\", \"lst\", \"lst_ldt\"] \n",
    "flist = [\"csv\", \"json\", \"xml\"]"
   ]
  },
  {
   "cell_type": "code",
   "execution_count": 4,
   "metadata": {
    "collapsed": false
   },
   "outputs": [
    {
     "name": "stdout",
     "output_type": "stream",
     "text": [
      "\n",
      "=====BEGIN PROCESS: 2017-04-07 02:25:47.154977=====\n",
      "Grabbing NOAA Station Data beginning: 1990-01-01 00:00:00\n",
      "Grabbing NOAA Station Data beginning: 1990-01-02 00:00:00\n",
      "Grabbing NOAA Station Data beginning: 1990-01-03 00:00:00\n",
      "Grabbing NOAA Station Data beginning: 1990-01-04 00:00:00\n",
      "Grabbing NOAA Station Data beginning: 1990-01-05 00:00:00\n",
      "Grabbing NOAA Station Data beginning: 1990-01-06 00:00:00\n",
      "Grabbing NOAA Station Data beginning: 1990-01-07 00:00:00\n",
      "Grabbing NOAA Station Data beginning: 1990-01-08 00:00:00\n",
      "Grabbing NOAA Station Data beginning: 1990-01-09 00:00:00\n",
      "Grabbing NOAA Station Data beginning: 1990-01-10 00:00:00\n",
      "Grabbing NOAA Station Data beginning: 1990-01-11 00:00:00\n",
      "=====END PROCESS: 2017-04-07 02:26:44.904486=====\n"
     ]
    }
   ],
   "source": [
    "interact_manual(DownloadBouyData, station=slist, syear=years, smonth=months, sday=days, eyear=years, emonth=months,\n",
    "                eday=days, product=plist, datum=dlist, units=ulist, time_zone=tlist, dformat=flist)"
   ]
  },
  {
   "cell_type": "code",
   "execution_count": null,
   "metadata": {
    "collapsed": true
   },
   "outputs": [],
   "source": []
  }
 ],
 "metadata": {
  "anaconda-cloud": {},
  "kernelspec": {
   "display_name": "Python 3",
   "language": "python",
   "name": "python3"
  },
  "language_info": {
   "codemirror_mode": {
    "name": "ipython",
    "version": 3
   },
   "file_extension": ".py",
   "mimetype": "text/x-python",
   "name": "python",
   "nbconvert_exporter": "python",
   "pygments_lexer": "ipython3",
   "version": "3.5.1"
  },
  "widgets": {
   "state": {
    "02d8cc9b148a4b44a5f7f984500b3c44": {
     "views": [
      {
       "cell_index": 6
      }
     ]
    }
   },
   "version": "1.2.0"
  }
 },
 "nbformat": 4,
 "nbformat_minor": 0
}
