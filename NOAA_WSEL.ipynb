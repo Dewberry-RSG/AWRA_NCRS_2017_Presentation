{
 "cells": [
  {
   "cell_type": "code",
   "execution_count": 1,
   "metadata": {
    "collapsed": true
   },
   "outputs": [],
   "source": [
    "%matplotlib inline\n",
    "import matplotlib as mpl\n",
    "mpl.style.use('ggplot')\n",
    "import matplotlib.pyplot as plt\n",
    "import pandas as pd\n",
    "import os"
   ]
  },
  {
   "cell_type": "code",
   "execution_count": 2,
   "metadata": {
    "collapsed": true
   },
   "outputs": [],
   "source": [
    "os.chdir(\"W:/TECH/VirginiaBeach/WO2/Task2-Data collection/noaa_data\")"
   ]
  },
  {
   "cell_type": "code",
   "execution_count": 4,
   "metadata": {
    "collapsed": false
   },
   "outputs": [
    {
     "data": {
      "text/html": [
       "<div>\n",
       "<table border=\"1\" class=\"dataframe\">\n",
       "  <thead>\n",
       "    <tr style=\"text-align: right;\">\n",
       "      <th></th>\n",
       "      <th>datetime</th>\n",
       "      <th>water_level</th>\n",
       "    </tr>\n",
       "  </thead>\n",
       "  <tbody>\n",
       "    <tr>\n",
       "      <th>0</th>\n",
       "      <td>1945-01-01 00:00:00</td>\n",
       "      <td>0.765290467</td>\n",
       "    </tr>\n",
       "    <tr>\n",
       "      <th>1</th>\n",
       "      <td>1945-01-01 01:00:00</td>\n",
       "      <td>0.263290467</td>\n",
       "    </tr>\n",
       "    <tr>\n",
       "      <th>2</th>\n",
       "      <td>1945-01-01 02:00:00</td>\n",
       "      <td>-0.333709533</td>\n",
       "    </tr>\n",
       "    <tr>\n",
       "      <th>3</th>\n",
       "      <td>1945-01-01 03:00:00</td>\n",
       "      <td>-0.835709533</td>\n",
       "    </tr>\n",
       "    <tr>\n",
       "      <th>4</th>\n",
       "      <td>1945-01-01 04:00:00</td>\n",
       "      <td>-1.134709533</td>\n",
       "    </tr>\n",
       "  </tbody>\n",
       "</table>\n",
       "</div>"
      ],
      "text/plain": [
       "              datetime   water_level\n",
       "0  1945-01-01 00:00:00   0.765290467\n",
       "1  1945-01-01 01:00:00   0.263290467\n",
       "2  1945-01-01 02:00:00  -0.333709533\n",
       "3  1945-01-01 03:00:00  -0.835709533\n",
       "4  1945-01-01 04:00:00  -1.134709533"
      ]
     },
     "execution_count": 4,
     "metadata": {},
     "output_type": "execute_result"
    }
   ],
   "source": [
    "working_dir = r\"W:/TECH/VirginiaBeach/WO2/Task2-Data collection/noaa_data\"\n",
    "working_fil = 'SP_normalized.csv'\n",
    "os.chdir(working_dir)         \n",
    "Data = pd.read_csv(working_fil, \n",
    "                   delimiter=',',\n",
    "                   usecols=(0,1),\n",
    "                   infer_datetime_format=True,\n",
    "                   skiprows=0\n",
    "                  )\n",
    "Data.columns = ['datetime','water_level']\n",
    "Data['datetime'] = Data['datetime'].apply(pd.to_datetime)\n",
    "Data.head(5)"
   ]
  },
  {
   "cell_type": "code",
   "execution_count": 5,
   "metadata": {
    "collapsed": true
   },
   "outputs": [],
   "source": [
    "Data.set_index('datetime',inplace=True)"
   ]
  },
  {
   "cell_type": "code",
   "execution_count": 9,
   "metadata": {
    "collapsed": true
   },
   "outputs": [],
   "source": [
    "import numpy as np"
   ]
  },
  {
   "cell_type": "code",
   "execution_count": null,
   "metadata": {
    "collapsed": false
   },
   "outputs": [],
   "source": [
    "for j in range(len(Data['water_level'])):\n",
    "    if Data['water_level'][j] == '#VALUE!':\n",
    "        Data['water_level'][j] = np.nan\n",
    "Data['water_level'].as_type(float)"
   ]
  },
  {
   "cell_type": "code",
   "execution_count": null,
   "metadata": {
    "collapsed": true
   },
   "outputs": [],
   "source": []
  }
 ],
 "metadata": {
  "kernelspec": {
   "display_name": "Python 2",
   "language": "python",
   "name": "python2"
  },
  "language_info": {
   "codemirror_mode": {
    "name": "ipython",
    "version": 2
   },
   "file_extension": ".py",
   "mimetype": "text/x-python",
   "name": "python",
   "nbconvert_exporter": "python",
   "pygments_lexer": "ipython2",
   "version": "2.7.10"
  }
 },
 "nbformat": 4,
 "nbformat_minor": 0
}
