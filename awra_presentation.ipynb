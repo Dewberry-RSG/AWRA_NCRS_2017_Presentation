{
 "cells": [
  {
   "cell_type": "markdown",
   "metadata": {},
   "source": [
    "# Open Science in Water Resources with the Jupyter Notebooks.\n",
    "Jared Dorvinen, Dewberry, Fairfax, VA.\n",
    "Contact: Jared Dorvinen (Email: jdorvinen@dewberry.com)\n",
    "Abstract. With the ever increasing availability of data and ever more complex computational models, the computational and coding\n",
    "needs of water resources professionals is greater now than ever. However, water resources community currently has no ‘lingua franca’\n",
    "for scientific computing and coding is being done in a wide variety of specialized environments computer languages. This has created\n",
    "a situation where the complexity of these computing environments is inhibiting many from being able to easily share their code with\n",
    "colleagues across various countries and organizations. The open source community is addressing this issue by developing innovative\n",
    "programming tools and environments which allow for a universal interface for computing in a variety of languages. Jupyter\n",
    "Notebooks, developed by the Jupyter Project, enable the combination of rich multimedia documentation and interactive code within a\n",
    "standard web browser interface, they facilitate the setup and sharing of customizable computing environments in a variety of\n",
    "programing languages, and eliminate the need for expensive licensing in many scientific computing applications. This presentation\n",
    "introduces Jupyter Notebooks as applied to a variety of problems in water resources engineering. Examples notebooks include\n",
    "applications for coastal and inland water resources projects as well as statistical and data analysis tools."
   ]
  },
  {
   "cell_type": "markdown",
   "metadata": {
    "collapsed": true
   },
   "source": [
    "# Fitting Distributions to a Dataset "
   ]
  },
  {
   "cell_type": "code",
   "execution_count": 1,
   "metadata": {
    "collapsed": false
   },
   "outputs": [],
   "source": [
    "%matplotlib inline\n",
    "import matplotlib.pyplot as plt\n",
    "from matplotlib import gridspec\n",
    "import pandas as pd\n",
    "import numpy as np\n",
    "from ipywidgets import interact, interact_manual\n",
    "import os\n",
    "import scipy.stats as stats\n",
    "import scipy"
   ]
  },
  {
   "cell_type": "markdown",
   "metadata": {},
   "source": [
    "## Import Data"
   ]
  },
  {
   "cell_type": "code",
   "execution_count": 6,
   "metadata": {
    "collapsed": false
   },
   "outputs": [
    {
     "data": {
      "text/html": [
       "<div>\n",
       "<table border=\"1\" class=\"dataframe\">\n",
       "  <thead>\n",
       "    <tr style=\"text-align: right;\">\n",
       "      <th></th>\n",
       "      <th>length</th>\n",
       "      <th>inter</th>\n",
       "      <th>swel</th>\n",
       "      <th>hsig</th>\n",
       "      <th>tps</th>\n",
       "      <th>a_hsig</th>\n",
       "      <th>a_tps</th>\n",
       "    </tr>\n",
       "  </thead>\n",
       "  <tbody>\n",
       "    <tr>\n",
       "      <th>0</th>\n",
       "      <td>34</td>\n",
       "      <td>71</td>\n",
       "      <td>0.26</td>\n",
       "      <td>4.04</td>\n",
       "      <td>10.00</td>\n",
       "      <td>3.61</td>\n",
       "      <td>9.01</td>\n",
       "    </tr>\n",
       "    <tr>\n",
       "      <th>1</th>\n",
       "      <td>20</td>\n",
       "      <td>63</td>\n",
       "      <td>0.40</td>\n",
       "      <td>5.54</td>\n",
       "      <td>9.09</td>\n",
       "      <td>4.01</td>\n",
       "      <td>9.15</td>\n",
       "    </tr>\n",
       "    <tr>\n",
       "      <th>2</th>\n",
       "      <td>5</td>\n",
       "      <td>152</td>\n",
       "      <td>-0.34</td>\n",
       "      <td>3.71</td>\n",
       "      <td>7.69</td>\n",
       "      <td>3.45</td>\n",
       "      <td>7.95</td>\n",
       "    </tr>\n",
       "    <tr>\n",
       "      <th>3</th>\n",
       "      <td>13</td>\n",
       "      <td>251</td>\n",
       "      <td>0.09</td>\n",
       "      <td>4.96</td>\n",
       "      <td>10.00</td>\n",
       "      <td>3.93</td>\n",
       "      <td>9.05</td>\n",
       "    </tr>\n",
       "    <tr>\n",
       "      <th>4</th>\n",
       "      <td>6</td>\n",
       "      <td>52</td>\n",
       "      <td>0.05</td>\n",
       "      <td>3.57</td>\n",
       "      <td>9.09</td>\n",
       "      <td>3.35</td>\n",
       "      <td>8.50</td>\n",
       "    </tr>\n",
       "  </tbody>\n",
       "</table>\n",
       "</div>"
      ],
      "text/plain": [
       "   length     inter      swel  hsig    tps  a_hsig  a_tps\n",
       "0      34        71      0.26  4.04  10.00    3.61   9.01\n",
       "1      20        63      0.40  5.54   9.09    4.01   9.15\n",
       "2       5       152     -0.34  3.71   7.69    3.45   7.95\n",
       "3      13       251      0.09  4.96  10.00    3.93   9.05\n",
       "4       6        52      0.05  3.57   9.09    3.35   8.50"
      ]
     },
     "execution_count": 6,
     "metadata": {},
     "output_type": "execute_result"
    }
   ],
   "source": [
    "#Sample Data File\n",
    "filename = 'https://raw.githubusercontent.com/jdorvi/MonteCarlos_SLC/master/montauk_combined_data.csv'\n",
    "\n",
    "#Read in data\n",
    "df = pd.read_csv(filename, sep = ',').dropna()  \n",
    "df.columns = df.columns.str.strip()\n",
    "df.drop(labels= ['start','end'],axis = 1,  inplace = True)\n",
    "title = str(filename).split('/')[-1]\n",
    "df.head()"
   ]
  },
  {
   "cell_type": "markdown",
   "metadata": {},
   "source": [
    "## Fit Distribution"
   ]
  },
  {
   "cell_type": "code",
   "execution_count": 2,
   "metadata": {
    "collapsed": false,
    "scrolled": true
   },
   "outputs": [],
   "source": [
    "#Read in statistical distribution data\n",
    "continuous_distributions = \"https://raw.githubusercontent.com/jdorvi/MonteCarlos_SLC/master/continuous_distributions_.csv\"\n",
    "dists_unindexed = pd.read_csv(continuous_distributions)\n",
    "dist_list = dists_unindexed.distribution.tolist()\n",
    "dists = dists_unindexed.set_index(dists_unindexed.distribution)"
   ]
  },
  {
   "cell_type": "code",
   "execution_count": 7,
   "metadata": {
    "collapsed": true
   },
   "outputs": [],
   "source": [
    "def save_figure(path,name):\n",
    "    plt.savefig(path+name+\".png\",\n",
    "                dpi=200,\n",
    "                facecolor='none',\n",
    "                edgecolor='none'\n",
    "               )\n",
    "\n",
    "def find_nearest(array,value):\n",
    "    idx = (np.abs(array-value)).argmin()\n",
    "    return idx\n",
    "\n",
    "def dist_fit(name,dist_name,bins,parameter):\n",
    "    global df\n",
    "    #Initialize figure and set dimensions\n",
    "    fig = plt.figure(figsize = (18,6))\n",
    "    gs = gridspec.GridSpec(2,2)\n",
    "    ax1 = fig.add_subplot(gs[:,0])\n",
    "    ax3 = fig.add_subplot(gs[:,1])\n",
    "    ax1.set_title(title,fontsize=20)\n",
    "    \n",
    "    #Remove the plot frame lines. They are unnecessary chartjunk.\n",
    "    ax1.spines[\"top\"].set_visible(False)  \n",
    "    ax1.spines[\"right\"].set_visible(False) \n",
    "    ax3.spines[\"top\"].set_visible(False)  \n",
    "    ax3.spines[\"right\"].set_visible(False) \n",
    "    \n",
    "    # Ensure that the axis ticks only show up on the bottom and left of the plot.  \n",
    "    # Ticks on the right and top of the plot are generally unnecessary chartjunk.  \n",
    "    ax1.get_xaxis().tick_bottom()  \n",
    "    ax1.get_yaxis().tick_left()  \n",
    "    ax3.get_xaxis().tick_bottom()  \n",
    "    ax3.get_yaxis().tick_left()  \n",
    "    \n",
    "    # Make sure your axis ticks are large enough to be easily read.  \n",
    "    # You don't want your viewers squinting to read your plot.  \n",
    "    ax1.tick_params(axis=\"both\", which=\"both\", bottom=\"off\", top=\"off\",  \n",
    "                    labelbottom=\"on\", left=\"on\", right=\"off\", labelleft=\"on\",labelsize=14)\n",
    "    ax3.tick_params(axis=\"both\", which=\"both\", bottom=\"off\", top=\"off\",  \n",
    "                    labelbottom=\"on\", left=\"on\", right=\"off\", labelleft=\"on\",labelsize=14)\n",
    "\n",
    "    # Along the same vein, make sure your axis labels are large  \n",
    "    # enough to be easily read as well. Make them slightly larger  \n",
    "    # than your axis tick labels so they stand out.  \n",
    "    ax1.set_xlabel(parameter, fontsize=16)  \n",
    "    ax1.set_ylabel(\"Frequency of occurence\", fontsize=16)  \n",
    "    ax3.set_xlabel(parameter, fontsize=16) \n",
    "    ax3.set_ylabel(\"Exceedance Probability\", fontsize=16)\n",
    "    #Setting .... variables\n",
    "    size    = len(df[parameter])\n",
    "    max_val = 1.1*max(df[parameter])\n",
    "    min_val = min(df[parameter])\n",
    "    range_val = max_val-min_val\n",
    "    binsize = range_val/bins\n",
    "    x0 = np.arange(min_val,max_val,range_val*0.0001)\n",
    "    x1 = np.arange(min_val,max_val,binsize)\n",
    "    y1 = df[parameter]\n",
    "    #set x-axis limits\n",
    "    ax1.set_xlim(min_val,max_val)\n",
    "    ax3.set_xlim(min_val,max_val)\n",
    "    ax3.set_ylim(0,1.1)\n",
    "    #Plot histograms\n",
    "    EPDF = ax1.hist(y1, bins=x1, color='w')\n",
    "    ECDF = ax3.hist(y1, bins=x1, color='w', normed=1, cumulative=True)\n",
    "    #Fitting distribution\n",
    "    dist  = getattr(scipy.stats, dist_name)\n",
    "    param = dist.fit(y1)\n",
    "    pdf_fitted = dist.pdf(x0, *param[:-2], loc=param[-2], scale=param[-1])*size*binsize\n",
    "    cdf_fitted = dist.cdf(x0, *param[:-2], loc=param[-2], scale=param[-1])\n",
    "    \n",
    "    #Checking goodness of fit\n",
    "    #ks_fit = stats.kstest(pdf_fitted,dist_name) # Kolmogorov-Smirnov test: returns [KS stat (D,D+,orD-),pvalue]\n",
    "    #print(ks_fit)\n",
    "    \n",
    "    #Finding location of 0.002 and 0.01 exceedence probability events \n",
    "    FiveHundInd = find_nearest(cdf_fitted,0.998)\n",
    "    OneHundInd  = find_nearest(cdf_fitted,0.990)\n",
    "    #Plotting pdf and cdf    \n",
    "    ax1.plot(x0,pdf_fitted,linewidth=2,label=dist_name)\n",
    "    ax3.plot(x0,cdf_fitted,linewidth=2,label=dist_name)\n",
    "    #update figure spacing\n",
    "    gs.update(wspace=0.1, hspace=0.2)\n",
    "    #adding a text box\n",
    "    ax3.text(min_val+0.1*range_val,1.1,\n",
    "             dist_name.upper()+\" distribution\\n\"\n",
    "             +\"\\n\"\n",
    "             +\"0.2% - value: \" + str(\"%.2f\" %x0[FiveHundInd])+ \" meters\\n\"\n",
    "             +\"1.0% - value: \" + str(\"%.2f\" %x0[OneHundInd]) + \" meters\",\n",
    "             fontsize=14\n",
    "            )\n",
    "\n",
    "    print(dists.loc[dist_name,'description']+\"\\n\")\n",
    "    \n",
    "    param_names = (dist.shapes + ', loc, scale').split(', ') if dist.shapes else ['loc', 'scale']\n",
    "    param_str = ', '.join(['{}={:0.2f}'.format(k,v) for k,v in zip(param_names, param)])\n",
    "    dist_str = '{}({})'.format(dist_name, param_str)\n",
    "    print(dist_str)\n",
    "    plt.show()\n",
    "    print(stats.kstest(y1,dist_name,param,alternative='less'))\n",
    "    print(stats.kstest(y1,dist_name,param,alternative='greater'))\n",
    "    print(stats.kstest(y1,dist_name,param,alternative='two-sided'))\n",
    "    return name"
   ]
  },
  {
   "cell_type": "code",
   "execution_count": 8,
   "metadata": {
    "collapsed": false
   },
   "outputs": [
    {
     "name": "stdout",
     "output_type": "stream",
     "text": [
      "A double Weibull continuous random variable.\n",
      "\n",
      "dweibull(c=1.35, loc=3.55, scale=0.35)\n"
     ]
    },
    {
     "data": {
      "image/png": "[encoded data removed]",
      "text/plain": [
       "<matplotlib.figure.Figure at 0x7fe3ecf7b2b0>"
      ]
     },
     "metadata": {},
     "output_type": "display_data"
    },
    {
     "name": "stdout",
     "output_type": "stream",
     "text": [
      "KstestResult(statistic=0.10393989771505538, pvalue=0.0057729514655016079)\n",
      "KstestResult(statistic=0.098864146551981447, pvalue=0.0094137988402592798)\n",
      "KstestResult(statistic=0.10393989771505538, pvalue=0.011545902931003216)\n"
     ]
    },
    {
     "data": {
      "text/plain": [
       "'https://raw.githubusercontent.com/jdorvi/MonteCarlos_SLC/master/montauk_combined_data.csv'"
      ]
     },
     "metadata": {},
     "output_type": "display_data"
    }
   ],
   "source": [
    "params = list(df.columns) \n",
    "interact_manual(dist_fit, name=filename, dist_name=dist_list, bins=[25,100,5],parameter=params,title=title)"
   ]
  },
  {
   "cell_type": "markdown",
   "metadata": {},
   "source": [
    "## Get Recurrence Interval Values"
   ]
  },
  {
   "cell_type": "code",
   "execution_count": 7,
   "metadata": {
    "collapsed": false
   },
   "outputs": [
    {
     "data": {
      "text/plain": [
       "array([[<matplotlib.axes._subplots.AxesSubplot object at 0x7f3f335fc278>,\n",
       "        <matplotlib.axes._subplots.AxesSubplot object at 0x7f3f3057d710>],\n",
       "       [<matplotlib.axes._subplots.AxesSubplot object at 0x7f3f30ea4828>,\n",
       "        <matplotlib.axes._subplots.AxesSubplot object at 0x7f3f30e60e80>]], dtype=object)"
      ]
     },
     "execution_count": 7,
     "metadata": {},
     "output_type": "execute_result"
    },
    {
     "data": {
      "image/png": "[encoded data removed]",
      "text/plain": [
       "<matplotlib.figure.Figure at 0x7f3f30a79f98>"
      ]
     },
     "metadata": {},
     "output_type": "display_data"
    }
   ],
   "source": [
    "#Choose data vectors for scatter matrix\n",
    "usecols = ['a_hsig','a_tps']\n",
    "stat_data = df[usecols]\n",
    "pd.tools.plotting.scatter_matrix(stat_data)\n"
   ]
  },
  {
   "cell_type": "code",
   "execution_count": 8,
   "metadata": {
    "collapsed": false
   },
   "outputs": [
    {
     "data": {
      "text/plain": [
       "<matplotlib.collections.PathCollection at 0x7f3f30d09c18>"
      ]
     },
     "execution_count": 8,
     "metadata": {},
     "output_type": "execute_result"
    },
    {
     "data": {
      "image/png": "[encoded data removed]",
      "text/plain": [
       "<matplotlib.figure.Figure at 0x7f3f30da4550>"
      ]
     },
     "metadata": {},
     "output_type": "display_data"
    }
   ],
   "source": [
    "#Scatter Plot using 2 variables from dataset\n",
    "\n",
    "x,y = df.length,df.tps\n",
    "\n",
    "plt.scatter(x,y)"
   ]
  },
  {
   "cell_type": "markdown",
   "metadata": {
    "collapsed": true
   },
   "source": [
    "   ###References:\n",
    "   Python <br\\>\n",
    "   http://stackoverflow.com/questions/6615489/fitting-distributions-goodness-of-fit-p-value-is-it-possible-to-do-this-with/16651524#16651524 <br\\>\n",
    "   http://stackoverflow.com/questions/6620471/fitting-empirical-distribution-to-theoretical-ones-with-scipy-python <br\\><br\\>\n",
    "   Extreme wave statistics <br\\>\n",
    "   http://drs.nio.org/drs/bitstream/handle/2264/4165/Nat_Hazards_64_223a.pdf;jsessionid=55AAEDE5A2BF3AA06C6CCB5CE3CBEBAD?sequence=1 <br\\><br\\>\n",
    "   List of available distributions can be found here <br\\>\n",
    "   http://docs.scipy.org/doc/scipy/reference/stats.html#continuous-distributions<br\\><br\\>\n",
    "   Goodness of fit tests <br\\>\n",
    "   http://statsmodels.sourceforge.net/stable/stats.html#goodness-of-fit-tests-and-measures <br\\>\n",
    "   http://docs.scipy.org/doc/scipy/reference/stats.html#statistical-functions <br\\>"
   ]
  },
  {
   "cell_type": "markdown",
   "metadata": {
    "collapsed": false
   },
   "source": [
    "Length<br>\n",
    "genexpon(a=1.38, b=0.20, c=0.03, loc=3.00, scale=19.39)<br>\n",
    "KstestResult(statistic=0.090090090087017877, pvalue=0.051121878132879051)<br>\n",
    "genpareto(c=-0.02, loc=3.00, scale=14.16)<br>\n",
    "KstestResult(statistic=0.08997375153682749, pvalue=0.051604871224521176)<br><br>\n",
    "\n",
    "Interim<br>\n",
    "foldcauchy(c=0.63, loc=25.94, scale=137.16)\n",
    "KstestResult(statistic=0.026999638083165967, pvalue=0.99705005373423183)\n",
    "\n",
    "SWEL<br>\n",
    "johnsonsb(a=-0.95, b=1.41, loc=-1.12, scale=1.90)<br> \n",
    "KstestResult(statistic=0.029574404259407161, pvalue=0.9901000531575973)<br><br>\n",
    "\n",
    "HSIG<br>\n",
    "genexpon(a=0.05, b=0.32, c=1.83, loc=3.05, scale=0.36)<br>\n",
    "KstestResult(statistic=0.041869945686266341, pvalue=0.83122014943398015)<br>\n",
    "exponnorm(K=12.76, loc=3.16, scale=0.08)<br>\n",
    "KstestResult(statistic=0.045765702677044495, pvalue=0.74112752318380581)<br><br>\n",
    "\n",
    "TPS<br>\n",
    "recipinvgauss(mu=0.24, loc=5.60, scale=0.74)<br>\n",
    "KstestResult(statistic=0.10435298093410683, pvalue=0.014720986714411577)<br>\n",
    "genextreme(c=-0.08, loc=8.58, scale=1.31)<br>\n",
    "KstestResult(statistic=0.11307745876143599, pvalue=0.0062809593607968672)<br><br>\n",
    "\n",
    "a_hsig<br>\n",
    "genexpon(a=0.22, b=2.34, c=7.13, loc=3.03, scale=1.09)<br>\n",
    "KstestResult(statistic=0.047691926585930133, pvalue=0.70607193161667459)<br>\n",
    "exponnorm(K=8.97, loc=3.11, scale=0.05)<br>\n",
    "KstestResult(statistic=0.050605085052604193, pvalue=0.62055905806032152)<br><br>\n",
    "\n",
    "a_tps<br>\n",
    "recipinvgauss(mu=0.22, loc=5.90, scale=0.61)<br>\n",
    "KstestResult(statistic=0.038004922394594909, pvalue=0.90556531830166975)<br>\n",
    "genextreme(c=-0.08, loc=8.55, scale=1.12)<br>\n",
    "KstestResult(statistic=0.045956458061729433, pvalue=0.73647282485448418)<br><br>\n",
    "    \n",
    "    \n",
    "    \n",
    "    \n",
    "    \n",
    "    \n",
    "    \n",
    "    \n",
    "    \n",
    "    \n",
    "    \n",
    "    \n",
    "    \n",
    "    \n",
    "    \n",
    "    \n",
    "    \n",
    "    \n",
    "    \n",
    "    \n",
    "    \n",
    "    \n",
    "    \n",
    "    \n",
    "    \n",
    "    \n",
    "    \n",
    "    \n",
    "    \n",
    "    \n",
    "    \n",
    "    \n",
    "    \n",
    "    \n",
    "    \n",
    "    \n",
    "    \n",
    "    \n",
    "    \n",
    "    \n",
    "    \n",
    "    \n",
    "    \n",
    "    \n",
    "    \n",
    "    \n",
    "    \n",
    "    \n",
    "    \n",
    "    \n",
    "    \n",
    "    \n",
    "    \n",
    "    \n",
    "    \n",
    "    \n",
    "    \n",
    "    \n",
    "    \n",
    "    \n",
    "    \n",
    "    \n",
    "    \n",
    "    \n",
    "    \n",
    "    \n",
    "    \n",
    "    \n",
    "    \n",
    "    \n",
    "    \n",
    "    \n",
    "    \n",
    "    \n",
    "    \n",
    "    \n",
    "    \n",
    "    \n",
    "    \n",
    "    \n",
    "    \n",
    "    \n",
    "    \n",
    "    \n",
    "    \n",
    "    \n",
    "    \n",
    "    \n",
    "    "
   ]
  }
 ],
 "metadata": {
  "anaconda-cloud": {},
  "kernelspec": {
   "display_name": "Python 3",
   "language": "python",
   "name": "python3"
  },
  "language_info": {
   "codemirror_mode": {
    "name": "ipython",
    "version": 3
   },
   "file_extension": ".py",
   "mimetype": "text/x-python",
   "name": "python",
   "nbconvert_exporter": "python",
   "pygments_lexer": "ipython3",
   "version": "3.5.1"
  },
  "widgets": {
   "state": {
    "02d8cc9b148a4b44a5f7f984500b3c44": {
     "views": [
      {
       "cell_index": 6
      }
     ]
    }
   },
   "version": "1.2.0"
  }
 },
 "nbformat": 4,
 "nbformat_minor": 0
}
