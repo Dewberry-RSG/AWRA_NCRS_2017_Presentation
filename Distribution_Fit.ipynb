{
 "cells": [
  {
   "cell_type": "markdown",
   "metadata": {},
   "source": [
    "# Fitting Distributions to a Dataset "
   ]
  },
  {
   "cell_type": "code",
   "execution_count": 1,
   "metadata": {
    "collapsed": false
   },
   "outputs": [],
   "source": [
    "%matplotlib inline\n",
    "import matplotlib.pyplot as plt\n",
    "from matplotlib import gridspec\n",
    "import scipy\n",
    "import scipy.stats as stats\n",
    "import pandas as pd\n",
    "import numpy as np\n",
    "from ipywidgets import interact, interact_manual"
   ]
  },
  {
   "cell_type": "markdown",
   "metadata": {},
   "source": [
    "### Import Data"
   ]
  },
  {
   "cell_type": "code",
   "execution_count": 2,
   "metadata": {
    "collapsed": false,
    "scrolled": true
   },
   "outputs": [],
   "source": [
    "continuous_distributions = \"continuous.csv\"\n",
    "dists_unindexed = pd.read_csv(continuous_distributions)\n",
    "dist_list = dists_unindexed.distribution.tolist()\n",
    "dists = dists_unindexed.set_index(dists_unindexed.distribution)"
   ]
  },
  {
   "cell_type": "code",
   "execution_count": 3,
   "metadata": {
    "collapsed": false
   },
   "outputs": [],
   "source": [
    "file_names = ['453488','456615','459659','463721','465734','436464','437789','439070','441615']\n",
    "file_path = \"\"   #Path to your data here"
   ]
  },
  {
   "cell_type": "code",
   "execution_count": 4,
   "metadata": {
    "collapsed": false
   },
   "outputs": [],
   "source": [
    "def save_figure(path,name):\n",
    "    plt.savefig(path+name+\".png\",\n",
    "                dpi=200,\n",
    "                facecolor='none',\n",
    "                edgecolor='none'\n",
    "               )"
   ]
  },
  {
   "cell_type": "code",
   "execution_count": 5,
   "metadata": {
    "collapsed": true
   },
   "outputs": [],
   "source": [
    "def find_nearest(array,value):\n",
    "    idx = (np.abs(array-value)).argmin()\n",
    "    return idx"
   ]
  },
  {
   "cell_type": "code",
   "execution_count": 6,
   "metadata": {
    "collapsed": false
   },
   "outputs": [],
   "source": [
    "def dist_fit(path,name,dist_name,binsize):\n",
    "    #If your data is in an excel spreadsheet save it as a delimited text file (.csv formatted)\n",
    "    filename = path+name+\".txt\"\n",
    "    df = pd.read_csv(filename,names=[\"Hs\",\"File\"])           \n",
    "    title = \"Node #: \"+str(name)+\"\\n\"\n",
    "    \n",
    "    #Initialize figure and set dimensions\n",
    "    fig = plt.figure(figsize = (18,6))\n",
    "    gs = gridspec.GridSpec(2,2)\n",
    "    ax1 = fig.add_subplot(gs[:,0])\n",
    "    ax3 = fig.add_subplot(gs[:,1])\n",
    "    ax1.set_title(title,fontsize=20)\n",
    "    \n",
    "    #Remove the plot frame lines. They are unnecessary chartjunk.\n",
    "    ax1.spines[\"top\"].set_visible(False)  \n",
    "    ax1.spines[\"right\"].set_visible(False) \n",
    "    ax3.spines[\"top\"].set_visible(False)  \n",
    "    ax3.spines[\"right\"].set_visible(False) \n",
    "    \n",
    "    # Ensure that the axis ticks only show up on the bottom and left of the plot.  \n",
    "    # Ticks on the right and top of the plot are generally unnecessary chartjunk.  \n",
    "    ax1.get_xaxis().tick_bottom()  \n",
    "    ax1.get_yaxis().tick_left()  \n",
    "    ax3.get_xaxis().tick_bottom()  \n",
    "    ax3.get_yaxis().tick_left()  \n",
    "    \n",
    "    # Make sure your axis ticks are large enough to be easily read.  \n",
    "    # You don't want your viewers squinting to read your plot.  \n",
    "    ax1.tick_params(axis=\"both\", which=\"both\", bottom=\"off\", top=\"off\",  \n",
    "                    labelbottom=\"on\", left=\"on\", right=\"off\", labelleft=\"on\",labelsize=14)\n",
    "    ax3.tick_params(axis=\"both\", which=\"both\", bottom=\"off\", top=\"off\",  \n",
    "                    labelbottom=\"on\", left=\"on\", right=\"off\", labelleft=\"on\",labelsize=14)\n",
    "\n",
    "    # Along the same vein, make sure your axis labels are large  \n",
    "    # enough to be easily read as well. Make them slightly larger  \n",
    "    # than your axis tick labels so they stand out.  \n",
    "    ax1.set_xlabel(\"Wave Height (m)\", fontsize=16)  \n",
    "    ax1.set_ylabel(\"Frequency of occurence\", fontsize=16)  \n",
    "    ax3.set_xlabel(\"Wave Height (m)\", fontsize=16) \n",
    "    ax3.set_ylabel(\"Probability Hs < x\", fontsize=16)\n",
    "    #set x-axis limits\n",
    "    ax1.set_xlim(0,3)\n",
    "    ax3.set_xlim(0,3)\n",
    "    #Setting .... variables\n",
    "    size    = len(df.Hs)\n",
    "    max_val = 2*max(df.Hs)\n",
    "    x0 = np.arange(0,max_val,max_val*0.0001)\n",
    "    x1 = np.arange(0,3,binsize)\n",
    "    y1 = df.Hs\n",
    "    #Plot histograms\n",
    "    EPDF = ax1.hist(y1, bins=x1, color='w')\n",
    "    ECDF = ax3.hist(y1, bins=x1, color='w', normed=1, cumulative=True)\n",
    "    #Fitting distribution\n",
    "    dist  = getattr(scipy.stats, dist_name)\n",
    "    param = dist.fit(y1)\n",
    "    pdf_fitted = dist.pdf(x0, *param[:-2], loc=param[-2], scale=param[-1])*size*binsize\n",
    "    cdf_fitted = dist.cdf(x0, *param[:-2], loc=param[-2], scale=param[-1])\n",
    "    \n",
    "    #Checking goodness of fit\n",
    "    #ks_fit = stats.kstest(pdf_fitted,dist_name) # Kolmogorov-Smirnov test: returns [KS stat (D,D+,orD-),pvalue]\n",
    "    #print(ks_fit)\n",
    "    \n",
    "    #Finding location of 0.002 and 0.01 exceedence probability events \n",
    "    FiveHundInd = find_nearest(cdf_fitted,0.998)\n",
    "    OneHundInd  = find_nearest(cdf_fitted,0.990)\n",
    "    #Plotting pdf and cdf    \n",
    "    ax1.plot(x0,pdf_fitted,linewidth=2,label=dist_name)\n",
    "    ax3.plot(x0,cdf_fitted,linewidth=2,label=dist_name)\n",
    "    #update figure spacing\n",
    "    gs.update(wspace=0.1, hspace=0.2)\n",
    "    #adding a text box\n",
    "    ax3.text(-1.7,0.7,\n",
    "             dist_name.upper()+\" distribution\\n\"\n",
    "             +\"\\n\"\n",
    "             +\"0.2% - value: \" + str(\"%.2f\" %x0[FiveHundInd])+ \" meters\\n\"\n",
    "             +\"1.0% - value: \" + str(\"%.2f\" %x0[OneHundInd]) + \" meters\",\n",
    "             fontsize=14\n",
    "            )\n",
    "\n",
    "    print(dists.loc[dist_name,'description']+\"\\n\")\n",
    "    print('Distribution parameters: '+str(param)+\"\\n\\n\")\n",
    "    \n",
    "    plt.show()\n",
    "    return name"
   ]
  },
  {
   "cell_type": "code",
   "execution_count": 7,
   "metadata": {
    "collapsed": false
   },
   "outputs": [],
   "source": [
    "import matplotlib as mpl\n",
    "#mpl.style.available"
   ]
  },
  {
   "cell_type": "code",
   "execution_count": 8,
   "metadata": {
    "collapsed": false
   },
   "outputs": [],
   "source": [
    "mpl.style.use('seaborn-notebook')"
   ]
  },
  {
   "cell_type": "code",
   "execution_count": 9,
   "metadata": {
    "collapsed": false,
    "scrolled": false
   },
   "outputs": [
    {
     "name": "stdout",
     "output_type": "stream",
     "text": [
      "A generalized extreme value continuous random variable.\n",
      "\n",
      "Distribution parameters: (0.096722889323678979, 0.38716118882974093, 0.22310119769768522)\n",
      "\n",
      "\n"
     ]
    },
    {
     "data": {
      "image/png": "[encoded data removed]",
      "text/plain": [
       "<matplotlib.figure.Figure at 0x7fd144492d68>"
      ]
     },
     "metadata": {},
     "output_type": "display_data"
    },
    {
     "data": {
      "text/plain": [
       "'453488'"
      ]
     },
     "metadata": {},
     "output_type": "display_data"
    }
   ],
   "source": [
    "interact(dist_fit, path=file_path, name=file_names, dist_name=dist_list,binsize=[0.05,0.55,0.05])"
   ]
  },
  {
   "cell_type": "markdown",
   "metadata": {
    "collapsed": true
   },
   "source": [
    "   ###References:\n",
    "   Python <br\\>\n",
    "   http://stackoverflow.com/questions/6615489/fitting-distributions-goodness-of-fit-p-value-is-it-possible-to-do-this-with/16651524#16651524 <br\\>\n",
    "   http://stackoverflow.com/questions/6620471/fitting-empirical-distribution-to-theoretical-ones-with-scipy-python <br\\><br\\>\n",
    "   Extreme wave statistics <br\\>\n",
    "   http://drs.nio.org/drs/bitstream/handle/2264/4165/Nat_Hazards_64_223a.pdf;jsessionid=55AAEDE5A2BF3AA06C6CCB5CE3CBEBAD?sequence=1 <br\\><br\\>\n",
    "   List of available distributions can be found here <br\\>\n",
    "   http://docs.scipy.org/doc/scipy/reference/stats.html#continuous-distributions<br\\><br\\>\n",
    "   Goodness of fit tests <br\\>\n",
    "   http://statsmodels.sourceforge.net/stable/stats.html#goodness-of-fit-tests-and-measures <br\\>\n",
    "   http://docs.scipy.org/doc/scipy/reference/stats.html#statistical-functions <br\\>"
   ]
  },
  {
   "cell_type": "code",
   "execution_count": null,
   "metadata": {
    "collapsed": false
   },
   "outputs": [],
   "source": [
    "\n",
    "    \n",
    "    \n",
    "    \n",
    "    \n",
    "    \n",
    "    \n",
    "    \n",
    "    \n",
    "    \n",
    "    \n",
    "    \n",
    "    \n",
    "    \n",
    "    \n",
    "    \n",
    "    \n",
    "    \n",
    "    \n",
    "    \n",
    "    \n",
    "    \n",
    "    \n",
    "    \n",
    "    \n",
    "    \n",
    "    \n",
    "    \n",
    "    \n",
    "    \n",
    "    \n",
    "    \n",
    "    \n",
    "    \n",
    "    \n",
    "    \n",
    "    \n",
    "    \n",
    "    \n",
    "    \n",
    "    \n",
    "    \n",
    "    \n",
    "    \n",
    "    \n",
    "    \n",
    "    \n",
    "    \n",
    "    \n",
    "    \n",
    "    \n",
    "    \n",
    "    \n",
    "    \n",
    "    \n",
    "    \n",
    "    \n",
    "    \n",
    "    \n",
    "    \n",
    "    \n",
    "    \n",
    "    \n",
    "    \n",
    "    \n",
    "    \n",
    "    \n",
    "    \n",
    "    \n",
    "    \n",
    "    \n",
    "    \n",
    "    \n",
    "    \n",
    "    \n",
    "    \n",
    "    \n",
    "    \n",
    "    \n",
    "    \n",
    "    \n",
    "    \n",
    "    \n",
    "    \n",
    "    \n",
    "    \n",
    "    \n",
    "    \n",
    "    \n",
    "    \n",
    "    \n",
    "    \n",
    "    \n",
    "    \n",
    "    \n",
    "    \n",
    "    "
   ]
  }
 ],
 "metadata": {
  "kernelspec": {
   "display_name": "Python 3",
   "language": "python",
   "name": "python3"
  },
  "language_info": {
   "codemirror_mode": {
    "name": "ipython",
    "version": 3
   },
   "file_extension": ".py",
   "mimetype": "text/x-python",
   "name": "python",
   "nbconvert_exporter": "python",
   "pygments_lexer": "ipython3",
   "version": "3.5.1"
  }
 },
 "nbformat": 4,
 "nbformat_minor": 0
}
